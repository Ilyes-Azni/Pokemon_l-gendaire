{
  "nbformat": 4,
  "nbformat_minor": 0,
  "metadata": {
    "colab": {
      "provenance": []
    },
    "kernelspec": {
      "name": "python3",
      "display_name": "Python 3"
    },
    "language_info": {
      "name": "python"
    }
  },
  "cells": [
    {
      "cell_type": "markdown",
      "source": [
        "# Le but du projet est de savoir si un pokemon est légendaire ou non... Malgré le côté fun on va faire un projet sérieux sur un objet qui lui est plutôt léger"
      ],
      "metadata": {
        "id": "gKJ6bPhPy5Vf"
      }
    },
    {
      "cell_type": "code",
      "source": [
        "import pandas as pd\n",
        "import numpy as np \n",
        "import seaborn as sns\n",
        "import matplotlib.pyplot as plt\n",
        "%matplotlib inline\n",
        "\n",
        "from sklearn.model_selection import train_test_split\n",
        "from sklearn.metrics import accuracy_score, classification_report"
      ],
      "metadata": {
        "id": "H2ATmFLIzIGR"
      },
      "execution_count": 1,
      "outputs": []
    },
    {
      "cell_type": "code",
      "source": [
        "pokemon = pd.read_csv('/content/Pokemon Data.csv')\n",
        "pokemon "
      ],
      "metadata": {
        "colab": {
          "base_uri": "https://localhost:8080/",
          "height": 677
        },
        "id": "4lgdeqZfzsil",
        "outputId": "e8e5fd9c-3b9f-4d87-f53c-54b52e90ab8f"
      },
      "execution_count": 2,
      "outputs": [
        {
          "output_type": "execute_result",
          "data": {
            "text/plain": [
              "     Number        Name   Type_1  Type_2  Total   HP  Attack  Defense  Sp_Atk  \\\n",
              "0         1   Bulbasaur    Grass  Poison    318   45      49       49      65   \n",
              "1         2     Ivysaur    Grass  Poison    405   60      62       63      80   \n",
              "2         3    Venusaur    Grass  Poison    525   80      82       83     100   \n",
              "3         4  Charmander     Fire     NaN    309   39      52       43      60   \n",
              "4         5  Charmeleon     Fire     NaN    405   58      64       58      80   \n",
              "..      ...         ...      ...     ...    ...  ...     ...      ...     ...   \n",
              "716     717     Yveltal     Dark  Flying    680  126     131       95     131   \n",
              "717     718     Zygarde   Dragon  Ground    600  108     100      121      81   \n",
              "718     719     Diancie     Rock   Fairy    600   50     100      150     100   \n",
              "719     720       Hoopa  Psychic   Ghost    600   80     110       60     150   \n",
              "720     721   Volcanion     Fire   Water    600   80     110      120     130   \n",
              "\n",
              "     Sp_Def  ...   Color  hasGender  Pr_Male   Egg_Group_1  Egg_Group_2  \\\n",
              "0        65  ...   Green       True    0.875       Monster        Grass   \n",
              "1        80  ...   Green       True    0.875       Monster        Grass   \n",
              "2       100  ...   Green       True    0.875       Monster        Grass   \n",
              "3        50  ...     Red       True    0.875       Monster       Dragon   \n",
              "4        65  ...     Red       True    0.875       Monster       Dragon   \n",
              "..      ...  ...     ...        ...      ...           ...          ...   \n",
              "716      98  ...     Red      False      NaN  Undiscovered          NaN   \n",
              "717      95  ...   Green      False      NaN  Undiscovered          NaN   \n",
              "718     150  ...    Pink      False      NaN  Undiscovered          NaN   \n",
              "719     130  ...  Purple      False      NaN  Undiscovered          NaN   \n",
              "720      90  ...   Brown      False      NaN  Undiscovered          NaN   \n",
              "\n",
              "     hasMegaEvolution Height_m Weight_kg  Catch_Rate       Body_Style  \n",
              "0               False     0.71       6.9          45        quadruped  \n",
              "1               False     0.99      13.0          45        quadruped  \n",
              "2                True     2.01     100.0          45        quadruped  \n",
              "3               False     0.61       8.5          45   bipedal_tailed  \n",
              "4               False     1.09      19.0          45   bipedal_tailed  \n",
              "..                ...      ...       ...         ...              ...  \n",
              "716             False     5.79     203.0          45        two_wings  \n",
              "717             False     5.00     305.0           3  serpentine_body  \n",
              "718              True     0.71       8.8           3        head_arms  \n",
              "719             False     0.51       9.0           3        head_only  \n",
              "720             False     1.70     195.0           3        quadruped  \n",
              "\n",
              "[721 rows x 23 columns]"
            ],
            "text/html": [
              "\n",
              "  <div id=\"df-9955c8bf-06c5-4d20-be2f-bbd36f11fe10\">\n",
              "    <div class=\"colab-df-container\">\n",
              "      <div>\n",
              "<style scoped>\n",
              "    .dataframe tbody tr th:only-of-type {\n",
              "        vertical-align: middle;\n",
              "    }\n",
              "\n",
              "    .dataframe tbody tr th {\n",
              "        vertical-align: top;\n",
              "    }\n",
              "\n",
              "    .dataframe thead th {\n",
              "        text-align: right;\n",
              "    }\n",
              "</style>\n",
              "<table border=\"1\" class=\"dataframe\">\n",
              "  <thead>\n",
              "    <tr style=\"text-align: right;\">\n",
              "      <th></th>\n",
              "      <th>Number</th>\n",
              "      <th>Name</th>\n",
              "      <th>Type_1</th>\n",
              "      <th>Type_2</th>\n",
              "      <th>Total</th>\n",
              "      <th>HP</th>\n",
              "      <th>Attack</th>\n",
              "      <th>Defense</th>\n",
              "      <th>Sp_Atk</th>\n",
              "      <th>Sp_Def</th>\n",
              "      <th>...</th>\n",
              "      <th>Color</th>\n",
              "      <th>hasGender</th>\n",
              "      <th>Pr_Male</th>\n",
              "      <th>Egg_Group_1</th>\n",
              "      <th>Egg_Group_2</th>\n",
              "      <th>hasMegaEvolution</th>\n",
              "      <th>Height_m</th>\n",
              "      <th>Weight_kg</th>\n",
              "      <th>Catch_Rate</th>\n",
              "      <th>Body_Style</th>\n",
              "    </tr>\n",
              "  </thead>\n",
              "  <tbody>\n",
              "    <tr>\n",
              "      <th>0</th>\n",
              "      <td>1</td>\n",
              "      <td>Bulbasaur</td>\n",
              "      <td>Grass</td>\n",
              "      <td>Poison</td>\n",
              "      <td>318</td>\n",
              "      <td>45</td>\n",
              "      <td>49</td>\n",
              "      <td>49</td>\n",
              "      <td>65</td>\n",
              "      <td>65</td>\n",
              "      <td>...</td>\n",
              "      <td>Green</td>\n",
              "      <td>True</td>\n",
              "      <td>0.875</td>\n",
              "      <td>Monster</td>\n",
              "      <td>Grass</td>\n",
              "      <td>False</td>\n",
              "      <td>0.71</td>\n",
              "      <td>6.9</td>\n",
              "      <td>45</td>\n",
              "      <td>quadruped</td>\n",
              "    </tr>\n",
              "    <tr>\n",
              "      <th>1</th>\n",
              "      <td>2</td>\n",
              "      <td>Ivysaur</td>\n",
              "      <td>Grass</td>\n",
              "      <td>Poison</td>\n",
              "      <td>405</td>\n",
              "      <td>60</td>\n",
              "      <td>62</td>\n",
              "      <td>63</td>\n",
              "      <td>80</td>\n",
              "      <td>80</td>\n",
              "      <td>...</td>\n",
              "      <td>Green</td>\n",
              "      <td>True</td>\n",
              "      <td>0.875</td>\n",
              "      <td>Monster</td>\n",
              "      <td>Grass</td>\n",
              "      <td>False</td>\n",
              "      <td>0.99</td>\n",
              "      <td>13.0</td>\n",
              "      <td>45</td>\n",
              "      <td>quadruped</td>\n",
              "    </tr>\n",
              "    <tr>\n",
              "      <th>2</th>\n",
              "      <td>3</td>\n",
              "      <td>Venusaur</td>\n",
              "      <td>Grass</td>\n",
              "      <td>Poison</td>\n",
              "      <td>525</td>\n",
              "      <td>80</td>\n",
              "      <td>82</td>\n",
              "      <td>83</td>\n",
              "      <td>100</td>\n",
              "      <td>100</td>\n",
              "      <td>...</td>\n",
              "      <td>Green</td>\n",
              "      <td>True</td>\n",
              "      <td>0.875</td>\n",
              "      <td>Monster</td>\n",
              "      <td>Grass</td>\n",
              "      <td>True</td>\n",
              "      <td>2.01</td>\n",
              "      <td>100.0</td>\n",
              "      <td>45</td>\n",
              "      <td>quadruped</td>\n",
              "    </tr>\n",
              "    <tr>\n",
              "      <th>3</th>\n",
              "      <td>4</td>\n",
              "      <td>Charmander</td>\n",
              "      <td>Fire</td>\n",
              "      <td>NaN</td>\n",
              "      <td>309</td>\n",
              "      <td>39</td>\n",
              "      <td>52</td>\n",
              "      <td>43</td>\n",
              "      <td>60</td>\n",
              "      <td>50</td>\n",
              "      <td>...</td>\n",
              "      <td>Red</td>\n",
              "      <td>True</td>\n",
              "      <td>0.875</td>\n",
              "      <td>Monster</td>\n",
              "      <td>Dragon</td>\n",
              "      <td>False</td>\n",
              "      <td>0.61</td>\n",
              "      <td>8.5</td>\n",
              "      <td>45</td>\n",
              "      <td>bipedal_tailed</td>\n",
              "    </tr>\n",
              "    <tr>\n",
              "      <th>4</th>\n",
              "      <td>5</td>\n",
              "      <td>Charmeleon</td>\n",
              "      <td>Fire</td>\n",
              "      <td>NaN</td>\n",
              "      <td>405</td>\n",
              "      <td>58</td>\n",
              "      <td>64</td>\n",
              "      <td>58</td>\n",
              "      <td>80</td>\n",
              "      <td>65</td>\n",
              "      <td>...</td>\n",
              "      <td>Red</td>\n",
              "      <td>True</td>\n",
              "      <td>0.875</td>\n",
              "      <td>Monster</td>\n",
              "      <td>Dragon</td>\n",
              "      <td>False</td>\n",
              "      <td>1.09</td>\n",
              "      <td>19.0</td>\n",
              "      <td>45</td>\n",
              "      <td>bipedal_tailed</td>\n",
              "    </tr>\n",
              "    <tr>\n",
              "      <th>...</th>\n",
              "      <td>...</td>\n",
              "      <td>...</td>\n",
              "      <td>...</td>\n",
              "      <td>...</td>\n",
              "      <td>...</td>\n",
              "      <td>...</td>\n",
              "      <td>...</td>\n",
              "      <td>...</td>\n",
              "      <td>...</td>\n",
              "      <td>...</td>\n",
              "      <td>...</td>\n",
              "      <td>...</td>\n",
              "      <td>...</td>\n",
              "      <td>...</td>\n",
              "      <td>...</td>\n",
              "      <td>...</td>\n",
              "      <td>...</td>\n",
              "      <td>...</td>\n",
              "      <td>...</td>\n",
              "      <td>...</td>\n",
              "      <td>...</td>\n",
              "    </tr>\n",
              "    <tr>\n",
              "      <th>716</th>\n",
              "      <td>717</td>\n",
              "      <td>Yveltal</td>\n",
              "      <td>Dark</td>\n",
              "      <td>Flying</td>\n",
              "      <td>680</td>\n",
              "      <td>126</td>\n",
              "      <td>131</td>\n",
              "      <td>95</td>\n",
              "      <td>131</td>\n",
              "      <td>98</td>\n",
              "      <td>...</td>\n",
              "      <td>Red</td>\n",
              "      <td>False</td>\n",
              "      <td>NaN</td>\n",
              "      <td>Undiscovered</td>\n",
              "      <td>NaN</td>\n",
              "      <td>False</td>\n",
              "      <td>5.79</td>\n",
              "      <td>203.0</td>\n",
              "      <td>45</td>\n",
              "      <td>two_wings</td>\n",
              "    </tr>\n",
              "    <tr>\n",
              "      <th>717</th>\n",
              "      <td>718</td>\n",
              "      <td>Zygarde</td>\n",
              "      <td>Dragon</td>\n",
              "      <td>Ground</td>\n",
              "      <td>600</td>\n",
              "      <td>108</td>\n",
              "      <td>100</td>\n",
              "      <td>121</td>\n",
              "      <td>81</td>\n",
              "      <td>95</td>\n",
              "      <td>...</td>\n",
              "      <td>Green</td>\n",
              "      <td>False</td>\n",
              "      <td>NaN</td>\n",
              "      <td>Undiscovered</td>\n",
              "      <td>NaN</td>\n",
              "      <td>False</td>\n",
              "      <td>5.00</td>\n",
              "      <td>305.0</td>\n",
              "      <td>3</td>\n",
              "      <td>serpentine_body</td>\n",
              "    </tr>\n",
              "    <tr>\n",
              "      <th>718</th>\n",
              "      <td>719</td>\n",
              "      <td>Diancie</td>\n",
              "      <td>Rock</td>\n",
              "      <td>Fairy</td>\n",
              "      <td>600</td>\n",
              "      <td>50</td>\n",
              "      <td>100</td>\n",
              "      <td>150</td>\n",
              "      <td>100</td>\n",
              "      <td>150</td>\n",
              "      <td>...</td>\n",
              "      <td>Pink</td>\n",
              "      <td>False</td>\n",
              "      <td>NaN</td>\n",
              "      <td>Undiscovered</td>\n",
              "      <td>NaN</td>\n",
              "      <td>True</td>\n",
              "      <td>0.71</td>\n",
              "      <td>8.8</td>\n",
              "      <td>3</td>\n",
              "      <td>head_arms</td>\n",
              "    </tr>\n",
              "    <tr>\n",
              "      <th>719</th>\n",
              "      <td>720</td>\n",
              "      <td>Hoopa</td>\n",
              "      <td>Psychic</td>\n",
              "      <td>Ghost</td>\n",
              "      <td>600</td>\n",
              "      <td>80</td>\n",
              "      <td>110</td>\n",
              "      <td>60</td>\n",
              "      <td>150</td>\n",
              "      <td>130</td>\n",
              "      <td>...</td>\n",
              "      <td>Purple</td>\n",
              "      <td>False</td>\n",
              "      <td>NaN</td>\n",
              "      <td>Undiscovered</td>\n",
              "      <td>NaN</td>\n",
              "      <td>False</td>\n",
              "      <td>0.51</td>\n",
              "      <td>9.0</td>\n",
              "      <td>3</td>\n",
              "      <td>head_only</td>\n",
              "    </tr>\n",
              "    <tr>\n",
              "      <th>720</th>\n",
              "      <td>721</td>\n",
              "      <td>Volcanion</td>\n",
              "      <td>Fire</td>\n",
              "      <td>Water</td>\n",
              "      <td>600</td>\n",
              "      <td>80</td>\n",
              "      <td>110</td>\n",
              "      <td>120</td>\n",
              "      <td>130</td>\n",
              "      <td>90</td>\n",
              "      <td>...</td>\n",
              "      <td>Brown</td>\n",
              "      <td>False</td>\n",
              "      <td>NaN</td>\n",
              "      <td>Undiscovered</td>\n",
              "      <td>NaN</td>\n",
              "      <td>False</td>\n",
              "      <td>1.70</td>\n",
              "      <td>195.0</td>\n",
              "      <td>3</td>\n",
              "      <td>quadruped</td>\n",
              "    </tr>\n",
              "  </tbody>\n",
              "</table>\n",
              "<p>721 rows × 23 columns</p>\n",
              "</div>\n",
              "      <button class=\"colab-df-convert\" onclick=\"convertToInteractive('df-9955c8bf-06c5-4d20-be2f-bbd36f11fe10')\"\n",
              "              title=\"Convert this dataframe to an interactive table.\"\n",
              "              style=\"display:none;\">\n",
              "        \n",
              "  <svg xmlns=\"http://www.w3.org/2000/svg\" height=\"24px\"viewBox=\"0 0 24 24\"\n",
              "       width=\"24px\">\n",
              "    <path d=\"M0 0h24v24H0V0z\" fill=\"none\"/>\n",
              "    <path d=\"M18.56 5.44l.94 2.06.94-2.06 2.06-.94-2.06-.94-.94-2.06-.94 2.06-2.06.94zm-11 1L8.5 8.5l.94-2.06 2.06-.94-2.06-.94L8.5 2.5l-.94 2.06-2.06.94zm10 10l.94 2.06.94-2.06 2.06-.94-2.06-.94-.94-2.06-.94 2.06-2.06.94z\"/><path d=\"M17.41 7.96l-1.37-1.37c-.4-.4-.92-.59-1.43-.59-.52 0-1.04.2-1.43.59L10.3 9.45l-7.72 7.72c-.78.78-.78 2.05 0 2.83L4 21.41c.39.39.9.59 1.41.59.51 0 1.02-.2 1.41-.59l7.78-7.78 2.81-2.81c.8-.78.8-2.07 0-2.86zM5.41 20L4 18.59l7.72-7.72 1.47 1.35L5.41 20z\"/>\n",
              "  </svg>\n",
              "      </button>\n",
              "      \n",
              "  <style>\n",
              "    .colab-df-container {\n",
              "      display:flex;\n",
              "      flex-wrap:wrap;\n",
              "      gap: 12px;\n",
              "    }\n",
              "\n",
              "    .colab-df-convert {\n",
              "      background-color: #E8F0FE;\n",
              "      border: none;\n",
              "      border-radius: 50%;\n",
              "      cursor: pointer;\n",
              "      display: none;\n",
              "      fill: #1967D2;\n",
              "      height: 32px;\n",
              "      padding: 0 0 0 0;\n",
              "      width: 32px;\n",
              "    }\n",
              "\n",
              "    .colab-df-convert:hover {\n",
              "      background-color: #E2EBFA;\n",
              "      box-shadow: 0px 1px 2px rgba(60, 64, 67, 0.3), 0px 1px 3px 1px rgba(60, 64, 67, 0.15);\n",
              "      fill: #174EA6;\n",
              "    }\n",
              "\n",
              "    [theme=dark] .colab-df-convert {\n",
              "      background-color: #3B4455;\n",
              "      fill: #D2E3FC;\n",
              "    }\n",
              "\n",
              "    [theme=dark] .colab-df-convert:hover {\n",
              "      background-color: #434B5C;\n",
              "      box-shadow: 0px 1px 3px 1px rgba(0, 0, 0, 0.15);\n",
              "      filter: drop-shadow(0px 1px 2px rgba(0, 0, 0, 0.3));\n",
              "      fill: #FFFFFF;\n",
              "    }\n",
              "  </style>\n",
              "\n",
              "      <script>\n",
              "        const buttonEl =\n",
              "          document.querySelector('#df-9955c8bf-06c5-4d20-be2f-bbd36f11fe10 button.colab-df-convert');\n",
              "        buttonEl.style.display =\n",
              "          google.colab.kernel.accessAllowed ? 'block' : 'none';\n",
              "\n",
              "        async function convertToInteractive(key) {\n",
              "          const element = document.querySelector('#df-9955c8bf-06c5-4d20-be2f-bbd36f11fe10');\n",
              "          const dataTable =\n",
              "            await google.colab.kernel.invokeFunction('convertToInteractive',\n",
              "                                                     [key], {});\n",
              "          if (!dataTable) return;\n",
              "\n",
              "          const docLinkHtml = 'Like what you see? Visit the ' +\n",
              "            '<a target=\"_blank\" href=https://colab.research.google.com/notebooks/data_table.ipynb>data table notebook</a>'\n",
              "            + ' to learn more about interactive tables.';\n",
              "          element.innerHTML = '';\n",
              "          dataTable['output_type'] = 'display_data';\n",
              "          await google.colab.output.renderOutput(dataTable, element);\n",
              "          const docLink = document.createElement('div');\n",
              "          docLink.innerHTML = docLinkHtml;\n",
              "          element.appendChild(docLink);\n",
              "        }\n",
              "      </script>\n",
              "    </div>\n",
              "  </div>\n",
              "  "
            ]
          },
          "metadata": {},
          "execution_count": 2
        },
        {
          "output_type": "stream",
          "name": "stdout",
          "text": [
            "Warning: Total number of columns (23) exceeds max_columns (20) limiting to first (20) columns.\n"
          ]
        }
      ]
    },
    {
      "cell_type": "code",
      "source": [
        "pokemon.isnull().sum()"
      ],
      "metadata": {
        "colab": {
          "base_uri": "https://localhost:8080/"
        },
        "id": "1V2b_T1V1iL7",
        "outputId": "358d4b67-e551-4522-f297-d1bc1bf1d9e8"
      },
      "execution_count": 11,
      "outputs": [
        {
          "output_type": "execute_result",
          "data": {
            "text/plain": [
              "Number                0\n",
              "Name                  0\n",
              "Type_1                0\n",
              "Type_2              371\n",
              "Total                 0\n",
              "HP                    0\n",
              "Attack                0\n",
              "Defense               0\n",
              "Sp_Atk                0\n",
              "Sp_Def                0\n",
              "Speed                 0\n",
              "Generation            0\n",
              "isLegendary           0\n",
              "Color                 0\n",
              "hasGender             0\n",
              "Pr_Male              77\n",
              "Egg_Group_1           0\n",
              "Egg_Group_2         530\n",
              "hasMegaEvolution      0\n",
              "Height_m              0\n",
              "Weight_kg             0\n",
              "Catch_Rate            0\n",
              "Body_Style            0\n",
              "dtype: int64"
            ]
          },
          "metadata": {},
          "execution_count": 11
        }
      ]
    },
    {
      "cell_type": "code",
      "source": [
        "pokemon['Type_2'].fillna(pokemon['Type_2'].max, inplace = True)\n",
        "pokemon['Pr_Male'].fillna(pokemon['Pr_Male'].max, inplace = True)\n",
        "pokemon['Egg_Group_2'].fillna(pokemon['Egg_Group_2'].max, inplace = True)"
      ],
      "metadata": {
        "id": "VkmZ9PWg15Ym"
      },
      "execution_count": 12,
      "outputs": []
    },
    {
      "cell_type": "code",
      "source": [
        "pokemon.describe()"
      ],
      "metadata": {
        "colab": {
          "base_uri": "https://localhost:8080/",
          "height": 300
        },
        "id": "WSg4VH143NRd",
        "outputId": "6cdadc51-2972-4c69-f8ff-813f1cd4e34f"
      },
      "execution_count": 14,
      "outputs": [
        {
          "output_type": "execute_result",
          "data": {
            "text/plain": [
              "          Number       Total          HP      Attack     Defense      Sp_Atk  \\\n",
              "count  721.00000  721.000000  721.000000  721.000000  721.000000  721.000000   \n",
              "mean   361.00000  417.945908   68.380028   75.013870   70.808599   68.737864   \n",
              "std    208.27906  109.663671   25.848272   28.984475   29.296558   28.788005   \n",
              "min      1.00000  180.000000    1.000000    5.000000    5.000000   10.000000   \n",
              "25%    181.00000  320.000000   50.000000   53.000000   50.000000   45.000000   \n",
              "50%    361.00000  424.000000   65.000000   74.000000   65.000000   65.000000   \n",
              "75%    541.00000  499.000000   80.000000   95.000000   85.000000   90.000000   \n",
              "max    721.00000  720.000000  255.000000  165.000000  230.000000  154.000000   \n",
              "\n",
              "           Sp_Def       Speed  Generation    Height_m   Weight_kg  Catch_Rate  \n",
              "count  721.000000  721.000000  721.000000  721.000000  721.000000  721.000000  \n",
              "mean    69.291262   65.714286    3.323162    1.144979   56.773370  100.246879  \n",
              "std     27.015860   27.277920    1.669873    1.044369   89.095667   76.573513  \n",
              "min     20.000000    5.000000    1.000000    0.100000    0.100000    3.000000  \n",
              "25%     50.000000   45.000000    2.000000    0.610000    9.400000   45.000000  \n",
              "50%     65.000000   65.000000    3.000000    0.990000   28.000000   65.000000  \n",
              "75%     85.000000   85.000000    5.000000    1.400000   61.000000  180.000000  \n",
              "max    230.000000  160.000000    6.000000   14.500000  950.000000  255.000000  "
            ],
            "text/html": [
              "\n",
              "  <div id=\"df-4a17cd21-40b4-4cce-9ff9-4db36d390e26\">\n",
              "    <div class=\"colab-df-container\">\n",
              "      <div>\n",
              "<style scoped>\n",
              "    .dataframe tbody tr th:only-of-type {\n",
              "        vertical-align: middle;\n",
              "    }\n",
              "\n",
              "    .dataframe tbody tr th {\n",
              "        vertical-align: top;\n",
              "    }\n",
              "\n",
              "    .dataframe thead th {\n",
              "        text-align: right;\n",
              "    }\n",
              "</style>\n",
              "<table border=\"1\" class=\"dataframe\">\n",
              "  <thead>\n",
              "    <tr style=\"text-align: right;\">\n",
              "      <th></th>\n",
              "      <th>Number</th>\n",
              "      <th>Total</th>\n",
              "      <th>HP</th>\n",
              "      <th>Attack</th>\n",
              "      <th>Defense</th>\n",
              "      <th>Sp_Atk</th>\n",
              "      <th>Sp_Def</th>\n",
              "      <th>Speed</th>\n",
              "      <th>Generation</th>\n",
              "      <th>Height_m</th>\n",
              "      <th>Weight_kg</th>\n",
              "      <th>Catch_Rate</th>\n",
              "    </tr>\n",
              "  </thead>\n",
              "  <tbody>\n",
              "    <tr>\n",
              "      <th>count</th>\n",
              "      <td>721.00000</td>\n",
              "      <td>721.000000</td>\n",
              "      <td>721.000000</td>\n",
              "      <td>721.000000</td>\n",
              "      <td>721.000000</td>\n",
              "      <td>721.000000</td>\n",
              "      <td>721.000000</td>\n",
              "      <td>721.000000</td>\n",
              "      <td>721.000000</td>\n",
              "      <td>721.000000</td>\n",
              "      <td>721.000000</td>\n",
              "      <td>721.000000</td>\n",
              "    </tr>\n",
              "    <tr>\n",
              "      <th>mean</th>\n",
              "      <td>361.00000</td>\n",
              "      <td>417.945908</td>\n",
              "      <td>68.380028</td>\n",
              "      <td>75.013870</td>\n",
              "      <td>70.808599</td>\n",
              "      <td>68.737864</td>\n",
              "      <td>69.291262</td>\n",
              "      <td>65.714286</td>\n",
              "      <td>3.323162</td>\n",
              "      <td>1.144979</td>\n",
              "      <td>56.773370</td>\n",
              "      <td>100.246879</td>\n",
              "    </tr>\n",
              "    <tr>\n",
              "      <th>std</th>\n",
              "      <td>208.27906</td>\n",
              "      <td>109.663671</td>\n",
              "      <td>25.848272</td>\n",
              "      <td>28.984475</td>\n",
              "      <td>29.296558</td>\n",
              "      <td>28.788005</td>\n",
              "      <td>27.015860</td>\n",
              "      <td>27.277920</td>\n",
              "      <td>1.669873</td>\n",
              "      <td>1.044369</td>\n",
              "      <td>89.095667</td>\n",
              "      <td>76.573513</td>\n",
              "    </tr>\n",
              "    <tr>\n",
              "      <th>min</th>\n",
              "      <td>1.00000</td>\n",
              "      <td>180.000000</td>\n",
              "      <td>1.000000</td>\n",
              "      <td>5.000000</td>\n",
              "      <td>5.000000</td>\n",
              "      <td>10.000000</td>\n",
              "      <td>20.000000</td>\n",
              "      <td>5.000000</td>\n",
              "      <td>1.000000</td>\n",
              "      <td>0.100000</td>\n",
              "      <td>0.100000</td>\n",
              "      <td>3.000000</td>\n",
              "    </tr>\n",
              "    <tr>\n",
              "      <th>25%</th>\n",
              "      <td>181.00000</td>\n",
              "      <td>320.000000</td>\n",
              "      <td>50.000000</td>\n",
              "      <td>53.000000</td>\n",
              "      <td>50.000000</td>\n",
              "      <td>45.000000</td>\n",
              "      <td>50.000000</td>\n",
              "      <td>45.000000</td>\n",
              "      <td>2.000000</td>\n",
              "      <td>0.610000</td>\n",
              "      <td>9.400000</td>\n",
              "      <td>45.000000</td>\n",
              "    </tr>\n",
              "    <tr>\n",
              "      <th>50%</th>\n",
              "      <td>361.00000</td>\n",
              "      <td>424.000000</td>\n",
              "      <td>65.000000</td>\n",
              "      <td>74.000000</td>\n",
              "      <td>65.000000</td>\n",
              "      <td>65.000000</td>\n",
              "      <td>65.000000</td>\n",
              "      <td>65.000000</td>\n",
              "      <td>3.000000</td>\n",
              "      <td>0.990000</td>\n",
              "      <td>28.000000</td>\n",
              "      <td>65.000000</td>\n",
              "    </tr>\n",
              "    <tr>\n",
              "      <th>75%</th>\n",
              "      <td>541.00000</td>\n",
              "      <td>499.000000</td>\n",
              "      <td>80.000000</td>\n",
              "      <td>95.000000</td>\n",
              "      <td>85.000000</td>\n",
              "      <td>90.000000</td>\n",
              "      <td>85.000000</td>\n",
              "      <td>85.000000</td>\n",
              "      <td>5.000000</td>\n",
              "      <td>1.400000</td>\n",
              "      <td>61.000000</td>\n",
              "      <td>180.000000</td>\n",
              "    </tr>\n",
              "    <tr>\n",
              "      <th>max</th>\n",
              "      <td>721.00000</td>\n",
              "      <td>720.000000</td>\n",
              "      <td>255.000000</td>\n",
              "      <td>165.000000</td>\n",
              "      <td>230.000000</td>\n",
              "      <td>154.000000</td>\n",
              "      <td>230.000000</td>\n",
              "      <td>160.000000</td>\n",
              "      <td>6.000000</td>\n",
              "      <td>14.500000</td>\n",
              "      <td>950.000000</td>\n",
              "      <td>255.000000</td>\n",
              "    </tr>\n",
              "  </tbody>\n",
              "</table>\n",
              "</div>\n",
              "      <button class=\"colab-df-convert\" onclick=\"convertToInteractive('df-4a17cd21-40b4-4cce-9ff9-4db36d390e26')\"\n",
              "              title=\"Convert this dataframe to an interactive table.\"\n",
              "              style=\"display:none;\">\n",
              "        \n",
              "  <svg xmlns=\"http://www.w3.org/2000/svg\" height=\"24px\"viewBox=\"0 0 24 24\"\n",
              "       width=\"24px\">\n",
              "    <path d=\"M0 0h24v24H0V0z\" fill=\"none\"/>\n",
              "    <path d=\"M18.56 5.44l.94 2.06.94-2.06 2.06-.94-2.06-.94-.94-2.06-.94 2.06-2.06.94zm-11 1L8.5 8.5l.94-2.06 2.06-.94-2.06-.94L8.5 2.5l-.94 2.06-2.06.94zm10 10l.94 2.06.94-2.06 2.06-.94-2.06-.94-.94-2.06-.94 2.06-2.06.94z\"/><path d=\"M17.41 7.96l-1.37-1.37c-.4-.4-.92-.59-1.43-.59-.52 0-1.04.2-1.43.59L10.3 9.45l-7.72 7.72c-.78.78-.78 2.05 0 2.83L4 21.41c.39.39.9.59 1.41.59.51 0 1.02-.2 1.41-.59l7.78-7.78 2.81-2.81c.8-.78.8-2.07 0-2.86zM5.41 20L4 18.59l7.72-7.72 1.47 1.35L5.41 20z\"/>\n",
              "  </svg>\n",
              "      </button>\n",
              "      \n",
              "  <style>\n",
              "    .colab-df-container {\n",
              "      display:flex;\n",
              "      flex-wrap:wrap;\n",
              "      gap: 12px;\n",
              "    }\n",
              "\n",
              "    .colab-df-convert {\n",
              "      background-color: #E8F0FE;\n",
              "      border: none;\n",
              "      border-radius: 50%;\n",
              "      cursor: pointer;\n",
              "      display: none;\n",
              "      fill: #1967D2;\n",
              "      height: 32px;\n",
              "      padding: 0 0 0 0;\n",
              "      width: 32px;\n",
              "    }\n",
              "\n",
              "    .colab-df-convert:hover {\n",
              "      background-color: #E2EBFA;\n",
              "      box-shadow: 0px 1px 2px rgba(60, 64, 67, 0.3), 0px 1px 3px 1px rgba(60, 64, 67, 0.15);\n",
              "      fill: #174EA6;\n",
              "    }\n",
              "\n",
              "    [theme=dark] .colab-df-convert {\n",
              "      background-color: #3B4455;\n",
              "      fill: #D2E3FC;\n",
              "    }\n",
              "\n",
              "    [theme=dark] .colab-df-convert:hover {\n",
              "      background-color: #434B5C;\n",
              "      box-shadow: 0px 1px 3px 1px rgba(0, 0, 0, 0.15);\n",
              "      filter: drop-shadow(0px 1px 2px rgba(0, 0, 0, 0.3));\n",
              "      fill: #FFFFFF;\n",
              "    }\n",
              "  </style>\n",
              "\n",
              "      <script>\n",
              "        const buttonEl =\n",
              "          document.querySelector('#df-4a17cd21-40b4-4cce-9ff9-4db36d390e26 button.colab-df-convert');\n",
              "        buttonEl.style.display =\n",
              "          google.colab.kernel.accessAllowed ? 'block' : 'none';\n",
              "\n",
              "        async function convertToInteractive(key) {\n",
              "          const element = document.querySelector('#df-4a17cd21-40b4-4cce-9ff9-4db36d390e26');\n",
              "          const dataTable =\n",
              "            await google.colab.kernel.invokeFunction('convertToInteractive',\n",
              "                                                     [key], {});\n",
              "          if (!dataTable) return;\n",
              "\n",
              "          const docLinkHtml = 'Like what you see? Visit the ' +\n",
              "            '<a target=\"_blank\" href=https://colab.research.google.com/notebooks/data_table.ipynb>data table notebook</a>'\n",
              "            + ' to learn more about interactive tables.';\n",
              "          element.innerHTML = '';\n",
              "          dataTable['output_type'] = 'display_data';\n",
              "          await google.colab.output.renderOutput(dataTable, element);\n",
              "          const docLink = document.createElement('div');\n",
              "          docLink.innerHTML = docLinkHtml;\n",
              "          element.appendChild(docLink);\n",
              "        }\n",
              "      </script>\n",
              "    </div>\n",
              "  </div>\n",
              "  "
            ]
          },
          "metadata": {},
          "execution_count": 14
        }
      ]
    },
    {
      "cell_type": "markdown",
      "source": [
        "On va faire une heatmap pour voir la corrélation entre chacune des valeurs \n",
        "\n",
        "Une heatmap est une représentation graphique d'une matrice dans laquelle les valeurs sont représentées par des couleurs. Dans le cas de la corrélation, la matrice contient les coefficients de corrélation par paires entre toutes les paires de variables dans le jeu de données. La heatmap vous permet d'identifier rapidement les paires de variables qui sont fortement corrélées et celles qui ne le sont pas."
      ],
      "metadata": {
        "id": "xWcE89o43rxp"
      }
    },
    {
      "cell_type": "code",
      "source": [
        "plt.figure(figsize=(23,23))\n",
        "sns.heatmap(pokemon.corr(),annot=True, cmap='viridis', linewidths=.5)"
      ],
      "metadata": {
        "colab": {
          "base_uri": "https://localhost:8080/",
          "height": 1000
        },
        "id": "gwx_pMkU3f3K",
        "outputId": "72d09f91-04a0-44d8-fa04-112deb986452"
      },
      "execution_count": 22,
      "outputs": [
        {
          "output_type": "execute_result",
          "data": {
            "text/plain": [
              "<Axes: >"
            ]
          },
          "metadata": {},
          "execution_count": 22
        },
        {
          "output_type": "display_data",
          "data": {
            "text/plain": [
              "<Figure size 1656x1656 with 2 Axes>"
            ],
            "image/png": "[encoded data removed]"
          },
          "metadata": {
            "needs_background": "light"
          }
        }
      ]
    },
    {
      "cell_type": "code",
      "source": [
        "pokemon['Type_1'].value_counts()"
      ],
      "metadata": {
        "colab": {
          "base_uri": "https://localhost:8080/"
        },
        "id": "IZiMSNZE5PLE",
        "outputId": "a7b67814-6579-4617-c971-01abcdf025d1"
      },
      "execution_count": 17,
      "outputs": [
        {
          "output_type": "execute_result",
          "data": {
            "text/plain": [
              "Water       105\n",
              "Normal       93\n",
              "Grass        66\n",
              "Bug          63\n",
              "Fire         47\n",
              "Psychic      47\n",
              "Rock         41\n",
              "Electric     36\n",
              "Ground       30\n",
              "Poison       28\n",
              "Dark         28\n",
              "Fighting     25\n",
              "Dragon       24\n",
              "Ghost        23\n",
              "Ice          23\n",
              "Steel        22\n",
              "Fairy        17\n",
              "Flying        3\n",
              "Name: Type_1, dtype: int64"
            ]
          },
          "metadata": {},
          "execution_count": 17
        }
      ]
    },
    {
      "cell_type": "code",
      "source": [
        "pokemon['Generation'].value_counts()"
      ],
      "metadata": {
        "colab": {
          "base_uri": "https://localhost:8080/"
        },
        "id": "OQy_NasB6wCw",
        "outputId": "c4424426-b739-4a09-df14-242be0b98087"
      },
      "execution_count": 18,
      "outputs": [
        {
          "output_type": "execute_result",
          "data": {
            "text/plain": [
              "5    156\n",
              "1    151\n",
              "3    135\n",
              "4    107\n",
              "2    100\n",
              "6     72\n",
              "Name: Generation, dtype: int64"
            ]
          },
          "metadata": {},
          "execution_count": 18
        }
      ]
    },
    {
      "cell_type": "code",
      "source": [
        "pokemon['Color'].value_counts()"
      ],
      "metadata": {
        "colab": {
          "base_uri": "https://localhost:8080/"
        },
        "id": "s3N4NqXb60UL",
        "outputId": "379da2bf-9bd1-4710-81fc-be68b0d4b7e8"
      },
      "execution_count": 19,
      "outputs": [
        {
          "output_type": "execute_result",
          "data": {
            "text/plain": [
              "Blue      134\n",
              "Brown     110\n",
              "Green      79\n",
              "Red        75\n",
              "Grey       69\n",
              "Purple     65\n",
              "Yellow     64\n",
              "White      52\n",
              "Pink       41\n",
              "Black      32\n",
              "Name: Color, dtype: int64"
            ]
          },
          "metadata": {},
          "execution_count": 19
        }
      ]
    },
    {
      "cell_type": "code",
      "source": [
        "pokemon['Egg_Group_1'].value_counts()"
      ],
      "metadata": {
        "colab": {
          "base_uri": "https://localhost:8080/"
        },
        "id": "5lvzXaaB69VX",
        "outputId": "f8d57452-40cb-4b8b-84e1-093acaed2084"
      },
      "execution_count": 20,
      "outputs": [
        {
          "output_type": "execute_result",
          "data": {
            "text/plain": [
              "Field           169\n",
              "Monster          74\n",
              "Water_1          74\n",
              "Undiscovered     73\n",
              "Bug              66\n",
              "Mineral          46\n",
              "Flying           44\n",
              "Amorphous        41\n",
              "Human-Like       37\n",
              "Fairy            30\n",
              "Grass            27\n",
              "Water_2          15\n",
              "Water_3          14\n",
              "Dragon           10\n",
              "Ditto             1\n",
              "Name: Egg_Group_1, dtype: int64"
            ]
          },
          "metadata": {},
          "execution_count": 20
        }
      ]
    },
    {
      "cell_type": "code",
      "source": [
        "pokemon['Body_Style'].value_counts()"
      ],
      "metadata": {
        "colab": {
          "base_uri": "https://localhost:8080/"
        },
        "id": "1l-VuqJA7EUa",
        "outputId": "926df189-7f1f-49ba-d264-266b8abb3fa4"
      },
      "execution_count": 21,
      "outputs": [
        {
          "output_type": "execute_result",
          "data": {
            "text/plain": [
              "bipedal_tailed      158\n",
              "quadruped           135\n",
              "bipedal_tailless    109\n",
              "two_wings            63\n",
              "head_arms            39\n",
              "head_only            34\n",
              "with_fins            31\n",
              "insectoid            30\n",
              "head_base            30\n",
              "serpentine_body      29\n",
              "four_wings           18\n",
              "head_legs            17\n",
              "multiple_bodies      15\n",
              "several_limbs        13\n",
              "Name: Body_Style, dtype: int64"
            ]
          },
          "metadata": {},
          "execution_count": 21
        }
      ]
    },
    {
      "cell_type": "markdown",
      "source": [
        "Un autre moyen de faire du feature engineering c'est de rassembler certaines valeurs catégoriques voire d'en créer de nouvelles à partir d'autres. Ci dessous :"
      ],
      "metadata": {
        "id": "4QlEASGI8VbW"
      }
    },
    {
      "cell_type": "code",
      "source": [
        "pokemon_type = pokemon.replace(['Water', 'Ice'], 'Water')"
      ],
      "metadata": {
        "id": "TYOSoPLt7Hao"
      },
      "execution_count": 23,
      "outputs": []
    },
    {
      "cell_type": "code",
      "source": [
        "pokemon_type = pokemon_type.replace(['Grass','Bug'], 'Grass')"
      ],
      "metadata": {
        "id": "wsreqfHz8v3v"
      },
      "execution_count": 39,
      "outputs": []
    },
    {
      "cell_type": "code",
      "source": [
        "pokemon_type = pokemon_type.replace(['Ground', 'Rock'], 'Rock')\n",
        "pokemon_type = pokemon_type.replace(['Psychic', 'Dark', 'Ghost', 'Fairy'], 'Dark')\n",
        "pokemon_type = pokemon_type.replace(['Electric', 'Steel'], 'Electric')"
      ],
      "metadata": {
        "id": "sHtHAfWk860L"
      },
      "execution_count": 40,
      "outputs": []
    },
    {
      "cell_type": "markdown",
      "source": [
        "la fonction replace permet de viser ces catégories là pour les remplacer comme on l'a fait"
      ],
      "metadata": {
        "id": "ru5v_SIz9hnT"
      }
    },
    {
      "cell_type": "code",
      "source": [
        "pokemon_type['Type_1'].value_counts()"
      ],
      "metadata": {
        "colab": {
          "base_uri": "https://localhost:8080/"
        },
        "id": "3ogxIidg9P7k",
        "outputId": "ca4440eb-d2c7-47c8-ae16-e65ec5053283"
      },
      "execution_count": 41,
      "outputs": [
        {
          "output_type": "execute_result",
          "data": {
            "text/plain": [
              "Grass       129\n",
              "Dark        115\n",
              "Water       105\n",
              "Normal       93\n",
              "Rock         71\n",
              "Electric     58\n",
              "Fire         47\n",
              "Poison       28\n",
              "Fighting     25\n",
              "Dragon       24\n",
              "Ice          23\n",
              "Flying        3\n",
              "Name: Type_1, dtype: int64"
            ]
          },
          "metadata": {},
          "execution_count": 41
        }
      ]
    },
    {
      "cell_type": "code",
      "source": [
        "import sys\n",
        "\n",
        "print(sys.getrecursionlimit()) # Prints 1000\n",
        "sys.setrecursionlimit(2500)"
      ],
      "metadata": {
        "colab": {
          "base_uri": "https://localhost:8080/"
        },
        "id": "tMkCHEjx-SR7",
        "outputId": "31c4e422-01c9-4af6-e468-632f6fc268fa"
      },
      "execution_count": 46,
      "outputs": [
        {
          "output_type": "stream",
          "name": "stdout",
          "text": [
            "1500\n"
          ]
        }
      ]
    },
    {
      "cell_type": "code",
      "source": [
        "ref1 = dict(pokemon_type['Body_Style'].value_counts())\n",
        "pokemon_type['Body_Style_new']= pokemon_type['Body_Style'].map(ref1)"
      ],
      "metadata": {
        "id": "-PWvDsVh_NIg"
      },
      "execution_count": 49,
      "outputs": []
    },
    {
      "cell_type": "markdown",
      "source": [
        "Les deux lignes ci dessus permettent de remplacer les valeurs de la colonnes Body Style, en integers qui valent le nbr de fois que la valeur a été iterrée dans la colonne. "
      ],
      "metadata": {
        "id": "uXZbM-1BAR4U"
      }
    },
    {
      "cell_type": "markdown",
      "source": [
        "La suite va être l'encodage où on va procéder avec get_dummies() qui va nous permettre de récupérer des 0 et des 1 à partir de données catégoriques."
      ],
      "metadata": {
        "id": "lbM6fkGFAwub"
      }
    },
    {
      "cell_type": "code",
      "source": [
        "types_pokemon = pd.get_dummies(pokemon_type['Type_1'])\n",
        "color_pokemon = pd.get_dummies(pokemon_type['Color'])\n",
        "\n",
        "X = pd.concat([pokemon_type, types_pokemon], axis=1)\n",
        "X = pd.concat([X, color_pokemon], axis = 1)"
      ],
      "metadata": {
        "id": "3eOi8h-c_or6"
      },
      "execution_count": 50,
      "outputs": []
    },
    {
      "cell_type": "code",
      "source": [
        "X.head(n=2)"
      ],
      "metadata": {
        "colab": {
          "base_uri": "https://localhost:8080/",
          "height": 141
        },
        "id": "Fzxx3qm7BtjE",
        "outputId": "c9b30724-3aef-4616-a741-44acff78ce13"
      },
      "execution_count": 53,
      "outputs": [
        {
          "output_type": "execute_result",
          "data": {
            "text/plain": [
              "   Number       Name Type_1  Type_2  Total  HP  Attack  Defense  Sp_Atk  \\\n",
              "0       1  Bulbasaur  Grass  Poison    318  45      49       49      65   \n",
              "1       2    Ivysaur  Grass  Poison    405  60      62       63      80   \n",
              "\n",
              "   Sp_Def  ...  Black  Blue  Brown Green  Grey Pink Purple Red  White  Yellow  \n",
              "0      65  ...      0     0      0     1     0    0      0   0      0       0  \n",
              "1      80  ...      0     0      0     1     0    0      0   0      0       0  \n",
              "\n",
              "[2 rows x 46 columns]"
            ],
            "text/html": [
              "\n",
              "  <div id=\"df-486339ab-518e-4dc7-a3cc-010f8d01901e\">\n",
              "    <div class=\"colab-df-container\">\n",
              "      <div>\n",
              "<style scoped>\n",
              "    .dataframe tbody tr th:only-of-type {\n",
              "        vertical-align: middle;\n",
              "    }\n",
              "\n",
              "    .dataframe tbody tr th {\n",
              "        vertical-align: top;\n",
              "    }\n",
              "\n",
              "    .dataframe thead th {\n",
              "        text-align: right;\n",
              "    }\n",
              "</style>\n",
              "<table border=\"1\" class=\"dataframe\">\n",
              "  <thead>\n",
              "    <tr style=\"text-align: right;\">\n",
              "      <th></th>\n",
              "      <th>Number</th>\n",
              "      <th>Name</th>\n",
              "      <th>Type_1</th>\n",
              "      <th>Type_2</th>\n",
              "      <th>Total</th>\n",
              "      <th>HP</th>\n",
              "      <th>Attack</th>\n",
              "      <th>Defense</th>\n",
              "      <th>Sp_Atk</th>\n",
              "      <th>Sp_Def</th>\n",
              "      <th>...</th>\n",
              "      <th>Black</th>\n",
              "      <th>Blue</th>\n",
              "      <th>Brown</th>\n",
              "      <th>Green</th>\n",
              "      <th>Grey</th>\n",
              "      <th>Pink</th>\n",
              "      <th>Purple</th>\n",
              "      <th>Red</th>\n",
              "      <th>White</th>\n",
              "      <th>Yellow</th>\n",
              "    </tr>\n",
              "  </thead>\n",
              "  <tbody>\n",
              "    <tr>\n",
              "      <th>0</th>\n",
              "      <td>1</td>\n",
              "      <td>Bulbasaur</td>\n",
              "      <td>Grass</td>\n",
              "      <td>Poison</td>\n",
              "      <td>318</td>\n",
              "      <td>45</td>\n",
              "      <td>49</td>\n",
              "      <td>49</td>\n",
              "      <td>65</td>\n",
              "      <td>65</td>\n",
              "      <td>...</td>\n",
              "      <td>0</td>\n",
              "      <td>0</td>\n",
              "      <td>0</td>\n",
              "      <td>1</td>\n",
              "      <td>0</td>\n",
              "      <td>0</td>\n",
              "      <td>0</td>\n",
              "      <td>0</td>\n",
              "      <td>0</td>\n",
              "      <td>0</td>\n",
              "    </tr>\n",
              "    <tr>\n",
              "      <th>1</th>\n",
              "      <td>2</td>\n",
              "      <td>Ivysaur</td>\n",
              "      <td>Grass</td>\n",
              "      <td>Poison</td>\n",
              "      <td>405</td>\n",
              "      <td>60</td>\n",
              "      <td>62</td>\n",
              "      <td>63</td>\n",
              "      <td>80</td>\n",
              "      <td>80</td>\n",
              "      <td>...</td>\n",
              "      <td>0</td>\n",
              "      <td>0</td>\n",
              "      <td>0</td>\n",
              "      <td>1</td>\n",
              "      <td>0</td>\n",
              "      <td>0</td>\n",
              "      <td>0</td>\n",
              "      <td>0</td>\n",
              "      <td>0</td>\n",
              "      <td>0</td>\n",
              "    </tr>\n",
              "  </tbody>\n",
              "</table>\n",
              "<p>2 rows × 46 columns</p>\n",
              "</div>\n",
              "      <button class=\"colab-df-convert\" onclick=\"convertToInteractive('df-486339ab-518e-4dc7-a3cc-010f8d01901e')\"\n",
              "              title=\"Convert this dataframe to an interactive table.\"\n",
              "              style=\"display:none;\">\n",
              "        \n",
              "  <svg xmlns=\"http://www.w3.org/2000/svg\" height=\"24px\"viewBox=\"0 0 24 24\"\n",
              "       width=\"24px\">\n",
              "    <path d=\"M0 0h24v24H0V0z\" fill=\"none\"/>\n",
              "    <path d=\"M18.56 5.44l.94 2.06.94-2.06 2.06-.94-2.06-.94-.94-2.06-.94 2.06-2.06.94zm-11 1L8.5 8.5l.94-2.06 2.06-.94-2.06-.94L8.5 2.5l-.94 2.06-2.06.94zm10 10l.94 2.06.94-2.06 2.06-.94-2.06-.94-.94-2.06-.94 2.06-2.06.94z\"/><path d=\"M17.41 7.96l-1.37-1.37c-.4-.4-.92-.59-1.43-.59-.52 0-1.04.2-1.43.59L10.3 9.45l-7.72 7.72c-.78.78-.78 2.05 0 2.83L4 21.41c.39.39.9.59 1.41.59.51 0 1.02-.2 1.41-.59l7.78-7.78 2.81-2.81c.8-.78.8-2.07 0-2.86zM5.41 20L4 18.59l7.72-7.72 1.47 1.35L5.41 20z\"/>\n",
              "  </svg>\n",
              "      </button>\n",
              "      \n",
              "  <style>\n",
              "    .colab-df-container {\n",
              "      display:flex;\n",
              "      flex-wrap:wrap;\n",
              "      gap: 12px;\n",
              "    }\n",
              "\n",
              "    .colab-df-convert {\n",
              "      background-color: #E8F0FE;\n",
              "      border: none;\n",
              "      border-radius: 50%;\n",
              "      cursor: pointer;\n",
              "      display: none;\n",
              "      fill: #1967D2;\n",
              "      height: 32px;\n",
              "      padding: 0 0 0 0;\n",
              "      width: 32px;\n",
              "    }\n",
              "\n",
              "    .colab-df-convert:hover {\n",
              "      background-color: #E2EBFA;\n",
              "      box-shadow: 0px 1px 2px rgba(60, 64, 67, 0.3), 0px 1px 3px 1px rgba(60, 64, 67, 0.15);\n",
              "      fill: #174EA6;\n",
              "    }\n",
              "\n",
              "    [theme=dark] .colab-df-convert {\n",
              "      background-color: #3B4455;\n",
              "      fill: #D2E3FC;\n",
              "    }\n",
              "\n",
              "    [theme=dark] .colab-df-convert:hover {\n",
              "      background-color: #434B5C;\n",
              "      box-shadow: 0px 1px 3px 1px rgba(0, 0, 0, 0.15);\n",
              "      filter: drop-shadow(0px 1px 2px rgba(0, 0, 0, 0.3));\n",
              "      fill: #FFFFFF;\n",
              "    }\n",
              "  </style>\n",
              "\n",
              "      <script>\n",
              "        const buttonEl =\n",
              "          document.querySelector('#df-486339ab-518e-4dc7-a3cc-010f8d01901e button.colab-df-convert');\n",
              "        buttonEl.style.display =\n",
              "          google.colab.kernel.accessAllowed ? 'block' : 'none';\n",
              "\n",
              "        async function convertToInteractive(key) {\n",
              "          const element = document.querySelector('#df-486339ab-518e-4dc7-a3cc-010f8d01901e');\n",
              "          const dataTable =\n",
              "            await google.colab.kernel.invokeFunction('convertToInteractive',\n",
              "                                                     [key], {});\n",
              "          if (!dataTable) return;\n",
              "\n",
              "          const docLinkHtml = 'Like what you see? Visit the ' +\n",
              "            '<a target=\"_blank\" href=https://colab.research.google.com/notebooks/data_table.ipynb>data table notebook</a>'\n",
              "            + ' to learn more about interactive tables.';\n",
              "          element.innerHTML = '';\n",
              "          dataTable['output_type'] = 'display_data';\n",
              "          await google.colab.output.renderOutput(dataTable, element);\n",
              "          const docLink = document.createElement('div');\n",
              "          docLink.innerHTML = docLinkHtml;\n",
              "          element.appendChild(docLink);\n",
              "        }\n",
              "      </script>\n",
              "    </div>\n",
              "  </div>\n",
              "  "
            ]
          },
          "metadata": {},
          "execution_count": 53
        }
      ]
    },
    {
      "cell_type": "code",
      "source": [
        "X.columns"
      ],
      "metadata": {
        "colab": {
          "base_uri": "https://localhost:8080/"
        },
        "id": "Tqe3yjS0B25t",
        "outputId": "2a162f9e-191f-4f01-995e-c7b0b1d9ef8c"
      },
      "execution_count": 54,
      "outputs": [
        {
          "output_type": "execute_result",
          "data": {
            "text/plain": [
              "Index(['Number', 'Name', 'Type_1', 'Type_2', 'Total', 'HP', 'Attack',\n",
              "       'Defense', 'Sp_Atk', 'Sp_Def', 'Speed', 'Generation', 'isLegendary',\n",
              "       'Color', 'hasGender', 'Pr_Male', 'Egg_Group_1', 'Egg_Group_2',\n",
              "       'hasMegaEvolution', 'Height_m', 'Weight_kg', 'Catch_Rate', 'Body_Style',\n",
              "       'Body_Style_new', 'Dark', 'Dragon', 'Electric', 'Fighting', 'Fire',\n",
              "       'Flying', 'Grass', 'Ice', 'Normal', 'Poison', 'Rock', 'Water', 'Black',\n",
              "       'Blue', 'Brown', 'Green', 'Grey', 'Pink', 'Purple', 'Red', 'White',\n",
              "       'Yellow'],\n",
              "      dtype='object')"
            ]
          },
          "metadata": {},
          "execution_count": 54
        }
      ]
    },
    {
      "cell_type": "code",
      "source": [
        "X_ = X.drop(['Number', 'Name', 'Type_1', 'Color', 'Egg_Group_1'], axis=1)\n",
        "\n",
        "X_.shape"
      ],
      "metadata": {
        "colab": {
          "base_uri": "https://localhost:8080/"
        },
        "id": "-JX-zgqRCMMi",
        "outputId": "97dadc23-a306-41cb-8e46-a852c05e6a7f"
      },
      "execution_count": 55,
      "outputs": [
        {
          "output_type": "execute_result",
          "data": {
            "text/plain": [
              "(721, 41)"
            ]
          },
          "metadata": {},
          "execution_count": 55
        }
      ]
    },
    {
      "cell_type": "code",
      "source": [
        "X.shape"
      ],
      "metadata": {
        "colab": {
          "base_uri": "https://localhost:8080/"
        },
        "id": "EOcZvRv5Ca5_",
        "outputId": "860f8ee0-be06-4fd8-f3d8-905d3e453c82"
      },
      "execution_count": 56,
      "outputs": [
        {
          "output_type": "execute_result",
          "data": {
            "text/plain": [
              "(721, 46)"
            ]
          },
          "metadata": {},
          "execution_count": 56
        }
      ]
    },
    {
      "cell_type": "markdown",
      "source": [
        "Le feature engineering est terminé on peut passer à la création du model et son training"
      ],
      "metadata": {
        "id": "rVGYbmYlCj82"
      }
    },
    {
      "cell_type": "code",
      "source": [
        "y = X_['isLegendary']\n",
        "X_final = X_.drop(['isLegendary', 'Body_Style', 'Type_2', 'Egg_Group_2','Pr_Male'], axis=1)\n"
      ],
      "metadata": {
        "id": "eKfOpSCjCdQs"
      },
      "execution_count": 80,
      "outputs": []
    },
    {
      "cell_type": "code",
      "source": [
        "X_final.columns"
      ],
      "metadata": {
        "colab": {
          "base_uri": "https://localhost:8080/"
        },
        "id": "OWZTcsAkC2qt",
        "outputId": "11ac62a5-2f99-4435-ec0d-e360790baf1b"
      },
      "execution_count": 81,
      "outputs": [
        {
          "output_type": "execute_result",
          "data": {
            "text/plain": [
              "Index(['Total', 'HP', 'Attack', 'Defense', 'Sp_Atk', 'Sp_Def', 'Speed',\n",
              "       'Generation', 'hasGender', 'hasMegaEvolution', 'Height_m', 'Weight_kg',\n",
              "       'Catch_Rate', 'Body_Style_new', 'Dark', 'Dragon', 'Electric',\n",
              "       'Fighting', 'Fire', 'Flying', 'Grass', 'Ice', 'Normal', 'Poison',\n",
              "       'Rock', 'Water', 'Black', 'Blue', 'Brown', 'Green', 'Grey', 'Pink',\n",
              "       'Purple', 'Red', 'White', 'Yellow'],\n",
              "      dtype='object')"
            ]
          },
          "metadata": {},
          "execution_count": 81
        }
      ]
    },
    {
      "cell_type": "code",
      "source": [
        "X_final.head(n=2)"
      ],
      "metadata": {
        "colab": {
          "base_uri": "https://localhost:8080/",
          "height": 141
        },
        "id": "0T7jR9fCC5oQ",
        "outputId": "04853abe-e42c-4bd6-acef-539e68320e87"
      },
      "execution_count": 82,
      "outputs": [
        {
          "output_type": "execute_result",
          "data": {
            "text/plain": [
              "   Total  HP  Attack  Defense  Sp_Atk  Sp_Def  Speed  Generation  hasGender  \\\n",
              "0    318  45      49       49      65      65     45           1       True   \n",
              "1    405  60      62       63      80      80     60           1       True   \n",
              "\n",
              "   hasMegaEvolution  ...  Black  Blue  Brown  Green  Grey  Pink  Purple  Red  \\\n",
              "0             False  ...      0     0      0      1     0     0       0    0   \n",
              "1             False  ...      0     0      0      1     0     0       0    0   \n",
              "\n",
              "   White  Yellow  \n",
              "0      0       0  \n",
              "1      0       0  \n",
              "\n",
              "[2 rows x 36 columns]"
            ],
            "text/html": [
              "\n",
              "  <div id=\"df-a261a6e7-5c1f-453c-bac9-9160cfebab6b\">\n",
              "    <div class=\"colab-df-container\">\n",
              "      <div>\n",
              "<style scoped>\n",
              "    .dataframe tbody tr th:only-of-type {\n",
              "        vertical-align: middle;\n",
              "    }\n",
              "\n",
              "    .dataframe tbody tr th {\n",
              "        vertical-align: top;\n",
              "    }\n",
              "\n",
              "    .dataframe thead th {\n",
              "        text-align: right;\n",
              "    }\n",
              "</style>\n",
              "<table border=\"1\" class=\"dataframe\">\n",
              "  <thead>\n",
              "    <tr style=\"text-align: right;\">\n",
              "      <th></th>\n",
              "      <th>Total</th>\n",
              "      <th>HP</th>\n",
              "      <th>Attack</th>\n",
              "      <th>Defense</th>\n",
              "      <th>Sp_Atk</th>\n",
              "      <th>Sp_Def</th>\n",
              "      <th>Speed</th>\n",
              "      <th>Generation</th>\n",
              "      <th>hasGender</th>\n",
              "      <th>hasMegaEvolution</th>\n",
              "      <th>...</th>\n",
              "      <th>Black</th>\n",
              "      <th>Blue</th>\n",
              "      <th>Brown</th>\n",
              "      <th>Green</th>\n",
              "      <th>Grey</th>\n",
              "      <th>Pink</th>\n",
              "      <th>Purple</th>\n",
              "      <th>Red</th>\n",
              "      <th>White</th>\n",
              "      <th>Yellow</th>\n",
              "    </tr>\n",
              "  </thead>\n",
              "  <tbody>\n",
              "    <tr>\n",
              "      <th>0</th>\n",
              "      <td>318</td>\n",
              "      <td>45</td>\n",
              "      <td>49</td>\n",
              "      <td>49</td>\n",
              "      <td>65</td>\n",
              "      <td>65</td>\n",
              "      <td>45</td>\n",
              "      <td>1</td>\n",
              "      <td>True</td>\n",
              "      <td>False</td>\n",
              "      <td>...</td>\n",
              "      <td>0</td>\n",
              "      <td>0</td>\n",
              "      <td>0</td>\n",
              "      <td>1</td>\n",
              "      <td>0</td>\n",
              "      <td>0</td>\n",
              "      <td>0</td>\n",
              "      <td>0</td>\n",
              "      <td>0</td>\n",
              "      <td>0</td>\n",
              "    </tr>\n",
              "    <tr>\n",
              "      <th>1</th>\n",
              "      <td>405</td>\n",
              "      <td>60</td>\n",
              "      <td>62</td>\n",
              "      <td>63</td>\n",
              "      <td>80</td>\n",
              "      <td>80</td>\n",
              "      <td>60</td>\n",
              "      <td>1</td>\n",
              "      <td>True</td>\n",
              "      <td>False</td>\n",
              "      <td>...</td>\n",
              "      <td>0</td>\n",
              "      <td>0</td>\n",
              "      <td>0</td>\n",
              "      <td>1</td>\n",
              "      <td>0</td>\n",
              "      <td>0</td>\n",
              "      <td>0</td>\n",
              "      <td>0</td>\n",
              "      <td>0</td>\n",
              "      <td>0</td>\n",
              "    </tr>\n",
              "  </tbody>\n",
              "</table>\n",
              "<p>2 rows × 36 columns</p>\n",
              "</div>\n",
              "      <button class=\"colab-df-convert\" onclick=\"convertToInteractive('df-a261a6e7-5c1f-453c-bac9-9160cfebab6b')\"\n",
              "              title=\"Convert this dataframe to an interactive table.\"\n",
              "              style=\"display:none;\">\n",
              "        \n",
              "  <svg xmlns=\"http://www.w3.org/2000/svg\" height=\"24px\"viewBox=\"0 0 24 24\"\n",
              "       width=\"24px\">\n",
              "    <path d=\"M0 0h24v24H0V0z\" fill=\"none\"/>\n",
              "    <path d=\"M18.56 5.44l.94 2.06.94-2.06 2.06-.94-2.06-.94-.94-2.06-.94 2.06-2.06.94zm-11 1L8.5 8.5l.94-2.06 2.06-.94-2.06-.94L8.5 2.5l-.94 2.06-2.06.94zm10 10l.94 2.06.94-2.06 2.06-.94-2.06-.94-.94-2.06-.94 2.06-2.06.94z\"/><path d=\"M17.41 7.96l-1.37-1.37c-.4-.4-.92-.59-1.43-.59-.52 0-1.04.2-1.43.59L10.3 9.45l-7.72 7.72c-.78.78-.78 2.05 0 2.83L4 21.41c.39.39.9.59 1.41.59.51 0 1.02-.2 1.41-.59l7.78-7.78 2.81-2.81c.8-.78.8-2.07 0-2.86zM5.41 20L4 18.59l7.72-7.72 1.47 1.35L5.41 20z\"/>\n",
              "  </svg>\n",
              "      </button>\n",
              "      \n",
              "  <style>\n",
              "    .colab-df-container {\n",
              "      display:flex;\n",
              "      flex-wrap:wrap;\n",
              "      gap: 12px;\n",
              "    }\n",
              "\n",
              "    .colab-df-convert {\n",
              "      background-color: #E8F0FE;\n",
              "      border: none;\n",
              "      border-radius: 50%;\n",
              "      cursor: pointer;\n",
              "      display: none;\n",
              "      fill: #1967D2;\n",
              "      height: 32px;\n",
              "      padding: 0 0 0 0;\n",
              "      width: 32px;\n",
              "    }\n",
              "\n",
              "    .colab-df-convert:hover {\n",
              "      background-color: #E2EBFA;\n",
              "      box-shadow: 0px 1px 2px rgba(60, 64, 67, 0.3), 0px 1px 3px 1px rgba(60, 64, 67, 0.15);\n",
              "      fill: #174EA6;\n",
              "    }\n",
              "\n",
              "    [theme=dark] .colab-df-convert {\n",
              "      background-color: #3B4455;\n",
              "      fill: #D2E3FC;\n",
              "    }\n",
              "\n",
              "    [theme=dark] .colab-df-convert:hover {\n",
              "      background-color: #434B5C;\n",
              "      box-shadow: 0px 1px 3px 1px rgba(0, 0, 0, 0.15);\n",
              "      filter: drop-shadow(0px 1px 2px rgba(0, 0, 0, 0.3));\n",
              "      fill: #FFFFFF;\n",
              "    }\n",
              "  </style>\n",
              "\n",
              "      <script>\n",
              "        const buttonEl =\n",
              "          document.querySelector('#df-a261a6e7-5c1f-453c-bac9-9160cfebab6b button.colab-df-convert');\n",
              "        buttonEl.style.display =\n",
              "          google.colab.kernel.accessAllowed ? 'block' : 'none';\n",
              "\n",
              "        async function convertToInteractive(key) {\n",
              "          const element = document.querySelector('#df-a261a6e7-5c1f-453c-bac9-9160cfebab6b');\n",
              "          const dataTable =\n",
              "            await google.colab.kernel.invokeFunction('convertToInteractive',\n",
              "                                                     [key], {});\n",
              "          if (!dataTable) return;\n",
              "\n",
              "          const docLinkHtml = 'Like what you see? Visit the ' +\n",
              "            '<a target=\"_blank\" href=https://colab.research.google.com/notebooks/data_table.ipynb>data table notebook</a>'\n",
              "            + ' to learn more about interactive tables.';\n",
              "          element.innerHTML = '';\n",
              "          dataTable['output_type'] = 'display_data';\n",
              "          await google.colab.output.renderOutput(dataTable, element);\n",
              "          const docLink = document.createElement('div');\n",
              "          docLink.innerHTML = docLinkHtml;\n",
              "          element.appendChild(docLink);\n",
              "        }\n",
              "      </script>\n",
              "    </div>\n",
              "  </div>\n",
              "  "
            ]
          },
          "metadata": {},
          "execution_count": 82
        }
      ]
    },
    {
      "cell_type": "code",
      "source": [
        "train_X, val_X, train_y, val_y = train_test_split (X_final, y, test_size=0.2)"
      ],
      "metadata": {
        "id": "wY0SL-ZEDKg7"
      },
      "execution_count": 84,
      "outputs": []
    },
    {
      "cell_type": "code",
      "source": [
        "from sklearn.ensemble import RandomForestClassifier"
      ],
      "metadata": {
        "id": "Qr6tYeZNDxEG"
      },
      "execution_count": 85,
      "outputs": []
    },
    {
      "cell_type": "code",
      "source": [
        "random_forest = RandomForestClassifier(n_estimators=500, random_state=42)"
      ],
      "metadata": {
        "id": "bpBoLUoLEAxU"
      },
      "execution_count": 86,
      "outputs": []
    },
    {
      "cell_type": "code",
      "source": [
        "print(train_X.dtypes)"
      ],
      "metadata": {
        "colab": {
          "base_uri": "https://localhost:8080/"
        },
        "id": "9dYwVxzXF5mr",
        "outputId": "b003bae0-61b3-4579-e0d6-3e923d9945a8"
      },
      "execution_count": 87,
      "outputs": [
        {
          "output_type": "stream",
          "name": "stdout",
          "text": [
            "Total                 int64\n",
            "HP                    int64\n",
            "Attack                int64\n",
            "Defense               int64\n",
            "Sp_Atk                int64\n",
            "Sp_Def                int64\n",
            "Speed                 int64\n",
            "Generation            int64\n",
            "hasGender              bool\n",
            "hasMegaEvolution       bool\n",
            "Height_m            float64\n",
            "Weight_kg           float64\n",
            "Catch_Rate            int64\n",
            "Body_Style_new        int64\n",
            "Dark                  uint8\n",
            "Dragon                uint8\n",
            "Electric              uint8\n",
            "Fighting              uint8\n",
            "Fire                  uint8\n",
            "Flying                uint8\n",
            "Grass                 uint8\n",
            "Ice                   uint8\n",
            "Normal                uint8\n",
            "Poison                uint8\n",
            "Rock                  uint8\n",
            "Water                 uint8\n",
            "Black                 uint8\n",
            "Blue                  uint8\n",
            "Brown                 uint8\n",
            "Green                 uint8\n",
            "Grey                  uint8\n",
            "Pink                  uint8\n",
            "Purple                uint8\n",
            "Red                   uint8\n",
            "White                 uint8\n",
            "Yellow                uint8\n",
            "dtype: object\n"
          ]
        }
      ]
    },
    {
      "cell_type": "code",
      "source": [
        "print(train_y.dtypes)"
      ],
      "metadata": {
        "colab": {
          "base_uri": "https://localhost:8080/"
        },
        "id": "0fGFqt_pF81i",
        "outputId": "9507a4bc-bc2a-46b4-a7fc-ff929ea2d05f"
      },
      "execution_count": 88,
      "outputs": [
        {
          "output_type": "stream",
          "name": "stdout",
          "text": [
            "bool\n"
          ]
        }
      ]
    },
    {
      "cell_type": "code",
      "source": [
        "model_final= random_forest.fit(train_X, train_y)\n",
        "\n",
        "y_pred= model_final.predict(val_X)\n",
        "\n",
        "#On va calculer la précision du model sur les données de training\n",
        "\n",
        "model_accuracy = round(model_final.score(train_X, train_y)*100,2)\n",
        "print(round(model_accuracy, 2), '%')"
      ],
      "metadata": {
        "colab": {
          "base_uri": "https://localhost:8080/"
        },
        "id": "WjOa9beEEc9T",
        "outputId": "d96af477-7532-4950-aa07-279184d33ef3"
      },
      "execution_count": 89,
      "outputs": [
        {
          "output_type": "stream",
          "name": "stdout",
          "text": [
            "100.0 %\n"
          ]
        }
      ]
    },
    {
      "cell_type": "code",
      "source": [
        "model_accuracy_1= round(model_final.score(val_X, val_y)*100,2)\n",
        "print(round(model_accuracy_1, 2), '%')"
      ],
      "metadata": {
        "colab": {
          "base_uri": "https://localhost:8080/"
        },
        "id": "RoloE-RPFGmd",
        "outputId": "c4230d47-69d5-49b4-f78c-72312fef41ed"
      },
      "execution_count": 90,
      "outputs": [
        {
          "output_type": "stream",
          "name": "stdout",
          "text": [
            "97.93 %\n"
          ]
        }
      ]
    },
    {
      "cell_type": "markdown",
      "source": [
        "Maintenant je vais télécharger le model pour le déployer sur application."
      ],
      "metadata": {
        "id": "lqTnNu_KJlYs"
      }
    },
    {
      "cell_type": "code",
      "source": [
        "import pickle\n",
        "\n",
        "filename = 'pokemon_model.pickle'\n",
        "\n",
        "pickle.dump(model_final, open(filename, 'wb'))"
      ],
      "metadata": {
        "id": "z3nl_cxcJZ3u"
      },
      "execution_count": 93,
      "outputs": []
    },
    {
      "cell_type": "code",
      "source": [],
      "metadata": {
        "id": "5JevZiU7J4Y4"
      },
      "execution_count": null,
      "outputs": []
    }
  ]
}